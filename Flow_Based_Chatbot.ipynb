{
  "nbformat": 4,
  "nbformat_minor": 0,
  "metadata": {
    "colab": {
      "provenance": [],
      "authorship_tag": "ABX9TyOg6L/sNGLA2EuGRxs088/7",
      "include_colab_link": true
    },
    "kernelspec": {
      "name": "python3",
      "display_name": "Python 3"
    },
    "language_info": {
      "name": "python"
    }
  },
  "cells": [
    {
      "cell_type": "markdown",
      "metadata": {
        "id": "view-in-github",
        "colab_type": "text"
      },
      "source": [
        "<a href=\"https://colab.research.google.com/github/dhanushpavann/MRUH-Training/blob/main/Flow_Based_Chatbot.ipynb\" target=\"_parent\"><img src=\"https://colab.research.google.com/assets/colab-badge.svg\" alt=\"Open In Colab\"/></a>"
      ]
    },
    {
      "cell_type": "code",
      "execution_count": null,
      "metadata": {
        "id": "dtXC7UfGIJs8",
        "colab": {
          "base_uri": "https://localhost:8080/"
        },
        "outputId": "67491a68-69e6-479c-fcc8-29916a2be3c7"
      },
      "outputs": [
        {
          "name": "stdout",
          "output_type": "stream",
          "text": [
            "Hello, World!\n"
          ]
        }
      ],
      "source": [
        "sentence=input()\n"
      ]
    },
    {
      "cell_type": "code",
      "source": [
        "sentence"
      ],
      "metadata": {
        "colab": {
          "base_uri": "https://localhost:8080/",
          "height": 35
        },
        "id": "gAm2P54IKT2q",
        "outputId": "9e4b96ba-3cc8-4c38-932f-8e10bf10f557"
      },
      "execution_count": null,
      "outputs": [
        {
          "output_type": "execute_result",
          "data": {
            "text/plain": [
              "'Hello, World!'"
            ],
            "application/vnd.google.colaboratory.intrinsic+json": {
              "type": "string"
            }
          },
          "metadata": {},
          "execution_count": 5
        }
      ]
    },
    {
      "cell_type": "code",
      "source": [
        "exit_words=['esc','quit','stop','exit','bye','close']\n"
      ],
      "metadata": {
        "id": "kCQ__kgGIjXC"
      },
      "execution_count": null,
      "outputs": []
    },
    {
      "cell_type": "code",
      "source": [
        "def lower_case(sent):\n",
        "  return sent.lower()\n"
      ],
      "metadata": {
        "id": "W0_LG_8lI9fk"
      },
      "execution_count": null,
      "outputs": []
    },
    {
      "cell_type": "code",
      "source": [
        "x=lower_case(sentence)\n",
        "x"
      ],
      "metadata": {
        "colab": {
          "base_uri": "https://localhost:8080/",
          "height": 35
        },
        "id": "QTUeYiPzJeI0",
        "outputId": "d1326d3e-7685-475b-8667-57cba7fb5bf9"
      },
      "execution_count": null,
      "outputs": [
        {
          "output_type": "execute_result",
          "data": {
            "text/plain": [
              "'hello, world!'"
            ],
            "application/vnd.google.colaboratory.intrinsic+json": {
              "type": "string"
            }
          },
          "metadata": {},
          "execution_count": 13
        }
      ]
    },
    {
      "cell_type": "code",
      "source": [
        "def upper_case(sent):\n",
        "  return sent.upper()"
      ],
      "metadata": {
        "id": "oThaRK0RKO0i"
      },
      "execution_count": null,
      "outputs": []
    },
    {
      "cell_type": "code",
      "source": [
        "y=upper_case(sentence)\n",
        "y\n"
      ],
      "metadata": {
        "colab": {
          "base_uri": "https://localhost:8080/",
          "height": 35
        },
        "id": "OE_0iud0LJQ0",
        "outputId": "d101e434-5d2a-4d1b-8112-82c1a99746ca"
      },
      "execution_count": null,
      "outputs": [
        {
          "output_type": "execute_result",
          "data": {
            "text/plain": [
              "'HELLO, WORLD!'"
            ],
            "application/vnd.google.colaboratory.intrinsic+json": {
              "type": "string"
            }
          },
          "metadata": {},
          "execution_count": 12
        }
      ]
    },
    {
      "cell_type": "code",
      "source": [
        "def exit():\n",
        "  print(\"Bye\")\n",
        "  exit()\n"
      ],
      "metadata": {
        "id": "Qi6sdgEHO9-L"
      },
      "execution_count": null,
      "outputs": []
    },
    {
      "cell_type": "code",
      "source": [
        "x =input(\"Enter the Sentence: \")\n",
        "while x not in exit_words:\n",
        "  choice=int(input(\"give 1 or 2 option: \"))\n",
        "  if choice ==1:\n",
        "    print(lower_case(x))\n",
        "  elif choice ==2:\n",
        "    print(upper_case(x))\n",
        "  elif x ==\"exit\":\n",
        "    exit\n",
        "  else:\n",
        "    print(\"invalid choice\")\n",
        "  x=input()"
      ],
      "metadata": {
        "id": "Dpjb4vWJLMPh",
        "collapsed": true
      },
      "execution_count": null,
      "outputs": []
    },
    {
      "cell_type": "code",
      "source": [
        "def lower_case(s):\n",
        "    return s.lower()\n",
        "\n",
        "def upper_case(s):\n",
        "    return s.upper()\n",
        "\n",
        "def reverse_sentence(s):\n",
        "    return s[::-1]\n",
        "\n",
        "def capitalize_sentence(s):\n",
        "    return s.capitalize()\n",
        "\n",
        "def remove_stopwords(s, stopwords):\n",
        "    words = s.split()\n",
        "    filtered_words = [word for word in words if word.lower() not in stopwords]\n",
        "    return ' '.join(filtered_words)\n",
        "\n",
        "def is_palindrome(s):\n",
        "    s_cleaned = ''.join(e for e in s if e.isalnum()).lower()\n",
        "    return s_cleaned == s_cleaned[::-1]\n",
        "\n",
        "\n",
        "def swap_case(s):\n",
        "    return s.swapcase()\n",
        "\n",
        "def exit_program():\n",
        "    print(\"Exiting the program.\")\n",
        "    exit()\n",
        "\n",
        "exit_words = [\"exit\", \"quit\", \"stop\"]\n",
        "stopwords = {\"is\", \"the\", \"and\", \"in\", \"to\"}\n",
        "\n",
        "x = input(\"Enter the Sentence: \")\n",
        "\n",
        "while x not in exit_words:\n",
        "    print(\"Choose an option:\")\n",
        "    print(\"1. Convert to lowercase\")\n",
        "    print(\"2. Convert to uppercase\")\n",
        "    print(\"3. Reverse the sentence\")\n",
        "    print(\"4. Capitalize the sentence\")\n",
        "    print(\"5. Remove stopwords\")\n",
        "    print(\"6. Check if palindrome\")\n",
        "    print(\"7. SwapCase\")\n",
        "\n",
        "\n",
        "    choice = int(input(\"Enter your choice (1-6): \"))\n",
        "\n",
        "    if choice == 1:\n",
        "        print(lower_case(x))\n",
        "    elif choice == 2:\n",
        "        print(upper_case(x))\n",
        "    elif choice == 3:\n",
        "        print(reverse_sentence(x))\n",
        "    elif choice == 4:\n",
        "        print(capitalize_sentence(x))\n",
        "    elif choice == 5:\n",
        "        print(remove_stopwords(x, stopwords))\n",
        "    elif choice == 6:\n",
        "        if is_palindrome(x):\n",
        "            print(\"The sentence is a palindrome.\")\n",
        "        else:\n",
        "            print(\"The sentence is not a palindrome.\")\n",
        "    elif choice == 7:\n",
        "        print(swap_case(x))\n",
        "    elif x in exit_words:\n",
        "        exit_program()\n",
        "    else:\n",
        "        print(\"Invalid choice\")\n",
        "\n",
        "    x = input(\"Enter the Sentence: \")\n",
        "\n",
        "exit_program()\n",
        "\n"
      ],
      "metadata": {
        "id": "ivMINfsiMpNx",
        "colab": {
          "base_uri": "https://localhost:8080/"
        },
        "outputId": "cb95065c-b4db-4b3f-c685-9dba15c6fe41"
      },
      "execution_count": 5,
      "outputs": [
        {
          "output_type": "stream",
          "name": "stdout",
          "text": [
            "Enter the Sentence: Hello , This is a Sample example for the Flow based Chatbot\n",
            "Choose an option:\n",
            "1. Convert to lowercase\n",
            "2. Convert to uppercase\n",
            "3. Reverse the sentence\n",
            "4. Capitalize the sentence\n",
            "5. Remove stopwords\n",
            "6. Check if palindrome\n",
            "7. SwapCase\n",
            "Enter your choice (1-6): 2\n",
            "HELLO , THIS IS A SAMPLE EXAMPLE FOR THE FLOW BASED CHATBOT\n",
            "Enter the Sentence: Hello , This is a Sample example for the Flow based Chatbot\n",
            "Choose an option:\n",
            "1. Convert to lowercase\n",
            "2. Convert to uppercase\n",
            "3. Reverse the sentence\n",
            "4. Capitalize the sentence\n",
            "5. Remove stopwords\n",
            "6. Check if palindrome\n",
            "7. SwapCase\n",
            "Enter your choice (1-6): 5\n",
            "Hello , This a Sample example for Flow based Chatbot\n",
            "Enter the Sentence: Hello , This is a Sample example for the Flow based Chatbot\n",
            "Choose an option:\n",
            "1. Convert to lowercase\n",
            "2. Convert to uppercase\n",
            "3. Reverse the sentence\n",
            "4. Capitalize the sentence\n",
            "5. Remove stopwords\n",
            "6. Check if palindrome\n",
            "7. SwapCase\n",
            "Enter your choice (1-6): 6\n",
            "The sentence is not a palindrome.\n",
            "Enter the Sentence: Hello , This is a Sample example for the Flow based Chatbot\n",
            "Choose an option:\n",
            "1. Convert to lowercase\n",
            "2. Convert to uppercase\n",
            "3. Reverse the sentence\n",
            "4. Capitalize the sentence\n",
            "5. Remove stopwords\n",
            "6. Check if palindrome\n",
            "7. SwapCase\n",
            "Enter your choice (1-6): 7\n",
            "hELLO , tHIS IS A sAMPLE EXAMPLE FOR THE fLOW BASED cHATBOT\n",
            "Enter the Sentence: exit\n",
            "Exiting the program.\n"
          ]
        }
      ]
    },
    {
      "cell_type": "code",
      "source": [],
      "metadata": {
        "id": "WFBOau8jPTtL"
      },
      "execution_count": null,
      "outputs": []
    }
  ]
}