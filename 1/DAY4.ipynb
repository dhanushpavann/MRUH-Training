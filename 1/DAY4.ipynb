{
  "nbformat": 4,
  "nbformat_minor": 0,
  "metadata": {
    "colab": {
      "provenance": [],
      "gpuType": "T4"
    },
    "kernelspec": {
      "name": "python3",
      "display_name": "Python 3"
    },
    "language_info": {
      "name": "python"
    },
    "accelerator": "GPU"
  },
  "cells": [
    {
      "cell_type": "code",
      "source": [
        "import spacy\n",
        "nlp= spacy.load('en_core_web_sm')"
      ],
      "metadata": {
        "id": "rBYW9SA5CI4r"
      },
      "execution_count": 1,
      "outputs": []
    },
    {
      "cell_type": "code",
      "execution_count": 2,
      "metadata": {
        "id": "8lrphOy3Bxzs"
      },
      "outputs": [],
      "source": [
        "s= nlp('This is a sample test sentence. To check, the functionlatity of spacy.')"
      ]
    },
    {
      "cell_type": "code",
      "source": [
        "type(s)"
      ],
      "metadata": {
        "id": "ftg-iiH3C7vC",
        "colab": {
          "base_uri": "https://localhost:8080/"
        },
        "outputId": "75023d2a-f687-447f-ec93-108682f3e747"
      },
      "execution_count": 3,
      "outputs": [
        {
          "output_type": "execute_result",
          "data": {
            "text/plain": [
              "spacy.tokens.doc.Doc"
            ]
          },
          "metadata": {},
          "execution_count": 3
        }
      ]
    },
    {
      "cell_type": "code",
      "source": [
        "for senntence in s.sents:\n",
        "    print(senntence)"
      ],
      "metadata": {
        "id": "xuRE3WLxC9pL",
        "colab": {
          "base_uri": "https://localhost:8080/"
        },
        "outputId": "e676dc1c-6b61-4b5b-9b85-89fb4b523506"
      },
      "execution_count": 4,
      "outputs": [
        {
          "output_type": "stream",
          "name": "stdout",
          "text": [
            "This is a sample test sentence.\n",
            "To check, the functionlatity of spacy.\n"
          ]
        }
      ]
    },
    {
      "cell_type": "code",
      "source": [
        "for word in s:\n",
        "  print(f\"{word}-{word.pos_}\")"
      ],
      "metadata": {
        "id": "ZVUZSA28DcVy",
        "colab": {
          "base_uri": "https://localhost:8080/"
        },
        "outputId": "4c8e6c01-e215-49bb-da14-8a814886b4f2"
      },
      "execution_count": 5,
      "outputs": [
        {
          "output_type": "stream",
          "name": "stdout",
          "text": [
            "This-PRON\n",
            "is-AUX\n",
            "a-DET\n",
            "sample-NOUN\n",
            "test-NOUN\n",
            "sentence-NOUN\n",
            ".-PUNCT\n",
            "To-PART\n",
            "check-VERB\n",
            ",-PUNCT\n",
            "the-DET\n",
            "functionlatity-NOUN\n",
            "of-ADP\n",
            "spacy-NOUN\n",
            ".-PUNCT\n"
          ]
        }
      ]
    },
    {
      "cell_type": "code",
      "source": [
        "s= nlp('This is a sample test sentence. To check, the functionlatity of spacy. ')\n",
        "for word in s:\n",
        "  print(f\"{word} - {word.lemma_}\")"
      ],
      "metadata": {
        "id": "0mWenJnNE7dP",
        "colab": {
          "base_uri": "https://localhost:8080/"
        },
        "outputId": "bb83b606-a96b-4045-e90b-561297fdc46a"
      },
      "execution_count": 6,
      "outputs": [
        {
          "output_type": "stream",
          "name": "stdout",
          "text": [
            "This - this\n",
            "is - be\n",
            "a - a\n",
            "sample - sample\n",
            "test - test\n",
            "sentence - sentence\n",
            ". - .\n",
            "To - to\n",
            "check - check\n",
            ", - ,\n",
            "the - the\n",
            "functionlatity - functionlatity\n",
            "of - of\n",
            "spacy - spacy\n",
            ". - .\n"
          ]
        }
      ]
    },
    {
      "cell_type": "code",
      "source": [
        "text=nlp(\"When Sebastian Thrun started working on self-drivin cars at Google in 2007, few people outside of the company took him seriously.\")\n"
      ],
      "metadata": {
        "id": "kBBXNCLSGcyH"
      },
      "execution_count": 7,
      "outputs": []
    },
    {
      "cell_type": "code",
      "source": [
        "for word in text.ents:\n",
        "  print(word)"
      ],
      "metadata": {
        "colab": {
          "base_uri": "https://localhost:8080/"
        },
        "id": "gJNpqOigHqDI",
        "outputId": "be4bd504-b309-43de-bbc2-0a147c6c786a"
      },
      "execution_count": 8,
      "outputs": [
        {
          "output_type": "stream",
          "name": "stdout",
          "text": [
            "Sebastian Thrun\n",
            "Google\n",
            "2007\n"
          ]
        }
      ]
    },
    {
      "cell_type": "code",
      "source": [
        "from spacy import displacy\n",
        "\n",
        "displacy.serve(text,style=\"ent\")"
      ],
      "metadata": {
        "colab": {
          "base_uri": "https://localhost:8080/",
          "height": 286
        },
        "id": "SQBXnJ88IL9t",
        "outputId": "78d4c19d-da53-40de-b73d-02978d871df2"
      },
      "execution_count": null,
      "outputs": [
        {
          "output_type": "stream",
          "name": "stderr",
          "text": [
            "/usr/local/lib/python3.11/dist-packages/spacy/displacy/__init__.py:106: UserWarning: [W011] It looks like you're calling displacy.serve from within a Jupyter notebook or a similar environment. This likely means you're already running a local web server, so there's no need to make displaCy start another one. Instead, you should be able to replace displacy.serve with displacy.render to show the visualization.\n",
            "  warnings.warn(Warnings.W011)\n"
          ]
        },
        {
          "output_type": "display_data",
          "data": {
            "text/plain": [
              "<IPython.core.display.HTML object>"
            ],
            "text/html": [
              "<span class=\"tex2jax_ignore\"><!DOCTYPE html>\n",
              "<html lang=\"en\">\n",
              "    <head>\n",
              "        <title>displaCy</title>\n",
              "    </head>\n",
              "\n",
              "    <body style=\"font-size: 16px; font-family: -apple-system, BlinkMacSystemFont, 'Segoe UI', Helvetica, Arial, sans-serif, 'Apple Color Emoji', 'Segoe UI Emoji', 'Segoe UI Symbol'; padding: 4rem 2rem; direction: ltr\">\n",
              "<figure style=\"margin-bottom: 6rem\">\n",
              "<div class=\"entities\" style=\"line-height: 2.5; direction: ltr\">When \n",
              "<mark class=\"entity\" style=\"background: #aa9cfc; padding: 0.45em 0.6em; margin: 0 0.25em; line-height: 1; border-radius: 0.35em;\">\n",
              "    Sebastian Thrun\n",
              "    <span style=\"font-size: 0.8em; font-weight: bold; line-height: 1; border-radius: 0.35em; vertical-align: middle; margin-left: 0.5rem\">PERSON</span>\n",
              "</mark>\n",
              " started working on self-drivin cars at \n",
              "<mark class=\"entity\" style=\"background: #7aecec; padding: 0.45em 0.6em; margin: 0 0.25em; line-height: 1; border-radius: 0.35em;\">\n",
              "    Google\n",
              "    <span style=\"font-size: 0.8em; font-weight: bold; line-height: 1; border-radius: 0.35em; vertical-align: middle; margin-left: 0.5rem\">ORG</span>\n",
              "</mark>\n",
              " in \n",
              "<mark class=\"entity\" style=\"background: #bfe1d9; padding: 0.45em 0.6em; margin: 0 0.25em; line-height: 1; border-radius: 0.35em;\">\n",
              "    2007\n",
              "    <span style=\"font-size: 0.8em; font-weight: bold; line-height: 1; border-radius: 0.35em; vertical-align: middle; margin-left: 0.5rem\">DATE</span>\n",
              "</mark>\n",
              ", few people outside of the company took him seriously.</div>\n",
              "</figure>\n",
              "</body>\n",
              "</html></span>"
            ]
          },
          "metadata": {}
        },
        {
          "output_type": "stream",
          "name": "stdout",
          "text": [
            "\n",
            "Using the 'ent' visualizer\n",
            "Serving on http://0.0.0.0:5000 ...\n",
            "\n"
          ]
        }
      ]
    },
    {
      "cell_type": "code",
      "source": [],
      "metadata": {
        "id": "ia6UwSfzIzCx"
      },
      "execution_count": null,
      "outputs": []
    }
  ]
}