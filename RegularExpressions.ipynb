{
  "nbformat": 4,
  "nbformat_minor": 0,
  "metadata": {
    "colab": {
      "provenance": [],
      "authorship_tag": "ABX9TyP+24OAy2YUfMclr9ijNaOU",
      "include_colab_link": true
    },
    "kernelspec": {
      "name": "python3",
      "display_name": "Python 3"
    },
    "language_info": {
      "name": "python"
    }
  },
  "cells": [
    {
      "cell_type": "markdown",
      "metadata": {
        "id": "view-in-github",
        "colab_type": "text"
      },
      "source": [
        "<a href=\"https://colab.research.google.com/github/dhanushpavann/MRUH-Training/blob/main/RegularExpressions.ipynb\" target=\"_parent\"><img src=\"https://colab.research.google.com/assets/colab-badge.svg\" alt=\"Open In Colab\"/></a>"
      ]
    },
    {
      "cell_type": "code",
      "execution_count": 4,
      "metadata": {
        "colab": {
          "base_uri": "https://localhost:8080/"
        },
        "id": "07eOA630RG9M",
        "outputId": "1a0f9853-9612-4f96-f155-d96c2fd8532f"
      },
      "outputs": [
        {
          "output_type": "stream",
          "name": "stdout",
          "text": [
            "\tHello\n",
            "\tHow are you\n"
          ]
        }
      ],
      "source": [
        "print(\"\\tHello\\n\\tHow are you\")"
      ]
    },
    {
      "cell_type": "code",
      "source": [
        "print(\"Hello\\n\\rHow are you\")\n"
      ],
      "metadata": {
        "colab": {
          "base_uri": "https://localhost:8080/"
        },
        "id": "zI7UMu-BRMgB",
        "outputId": "9b72f96b-1320-4a9f-ac84-1cb1d5e64d07"
      },
      "execution_count": 5,
      "outputs": [
        {
          "output_type": "stream",
          "name": "stdout",
          "text": [
            "Hello\n",
            "\rHow are you\n"
          ]
        }
      ]
    },
    {
      "cell_type": "code",
      "source": [
        "import re"
      ],
      "metadata": {
        "id": "6HLImGSQTvul"
      },
      "execution_count": 6,
      "outputs": []
    },
    {
      "cell_type": "code",
      "source": [
        "String=\"007 james bond wants to learn the python\"\n",
        "pattern=r'\\d+'\n",
        "matching=re.match(pattern,String)\n",
        "matching.group()\n",
        "\n"
      ],
      "metadata": {
        "colab": {
          "base_uri": "https://localhost:8080/",
          "height": 35
        },
        "id": "CoXE_fjrSt2N",
        "outputId": "5441e079-1222-4ee9-fb70-8169882931ee"
      },
      "execution_count": 20,
      "outputs": [
        {
          "output_type": "execute_result",
          "data": {
            "text/plain": [
              "'007'"
            ],
            "application/vnd.google.colaboratory.intrinsic+json": {
              "type": "string"
            }
          },
          "metadata": {},
          "execution_count": 20
        }
      ]
    },
    {
      "cell_type": "code",
      "source": [
        "String=\" james bond 007 wants to learn the python\"\n",
        "pattern=r'\\d+'\n",
        "matchingg=re.search(pattern,String)\n",
        "matchingg.group()\n",
        "\n"
      ],
      "metadata": {
        "colab": {
          "base_uri": "https://localhost:8080/",
          "height": 35
        },
        "id": "mQi1rcPPTw35",
        "outputId": "f0d02886-c686-4ad9-f726-01e83d35d98a"
      },
      "execution_count": 21,
      "outputs": [
        {
          "output_type": "execute_result",
          "data": {
            "text/plain": [
              "'007'"
            ],
            "application/vnd.google.colaboratory.intrinsic+json": {
              "type": "string"
            }
          },
          "metadata": {},
          "execution_count": 21
        }
      ]
    },
    {
      "cell_type": "code",
      "source": [
        "String=\" james bond 007 wants to learn the python 008\"\n",
        "pattern=r'\\d'\n",
        "matchingg=re.sub(pattern,\"*\",String)\n",
        "matchingg\n"
      ],
      "metadata": {
        "colab": {
          "base_uri": "https://localhost:8080/",
          "height": 35
        },
        "id": "m2FKMg_qVd4I",
        "outputId": "6c708aba-5228-4a2f-bba3-eea66fb32129"
      },
      "execution_count": 26,
      "outputs": [
        {
          "output_type": "execute_result",
          "data": {
            "text/plain": [
              "' james bond *** wants to learn the python ***'"
            ],
            "application/vnd.google.colaboratory.intrinsic+json": {
              "type": "string"
            }
          },
          "metadata": {},
          "execution_count": 26
        }
      ]
    },
    {
      "cell_type": "code",
      "source": [
        "text = \"\"\"\n",
        "Hello world! Contact us at info@example.com or support123@company.org. Follow us on social media: #AI #MachineLearning.\n",
        "Visit <a href=\"http://example.com\">our website</a> for more details. This is a test with number 1234.\n",
        "\"\"\"\n",
        "\n"
      ],
      "metadata": {
        "id": "IdQL_9-AXTCy"
      },
      "execution_count": 27,
      "outputs": []
    },
    {
      "cell_type": "code",
      "source": [
        "pattern=r'[a-zzA-Z0-9._%+-]+@[a-zA-Z.-]+\\.[a-zA-Z]{2,}'\n",
        "text=re.sub(pattern,'',text)\n",
        "\n",
        "text"
      ],
      "metadata": {
        "colab": {
          "base_uri": "https://localhost:8080/",
          "height": 35
        },
        "id": "AX_NcCYHZNep",
        "outputId": "5baf55c7-4245-4440-f84a-d8005b3c4655"
      },
      "execution_count": 46,
      "outputs": [
        {
          "output_type": "execute_result",
          "data": {
            "text/plain": [
              "'Hello world! Contact us at or . Follow us on social media: #AI #MachineLearning. Visit our website for more details. This is a test with number .'"
            ],
            "application/vnd.google.colaboratory.intrinsic+json": {
              "type": "string"
            }
          },
          "metadata": {},
          "execution_count": 46
        }
      ]
    },
    {
      "cell_type": "code",
      "source": [
        "tags=re.findall(r'#\\w+',text)\n",
        "tags"
      ],
      "metadata": {
        "colab": {
          "base_uri": "https://localhost:8080/"
        },
        "id": "kGJHeU8lZiKi",
        "outputId": "d2706fed-1497-4d7e-93cd-dbc327c99824"
      },
      "execution_count": 36,
      "outputs": [
        {
          "output_type": "execute_result",
          "data": {
            "text/plain": [
              "['#AI', '#MachineLearning']"
            ]
          },
          "metadata": {},
          "execution_count": 36
        }
      ]
    },
    {
      "cell_type": "code",
      "source": [
        "text = re.sub(r'\\b[\\w.-]+@[\\w.-]+\\.\\w+\\b', '', text)\n",
        "text = re.sub(r'#\\w+', '', text)\n",
        "\n",
        "text = re.sub(r'<.*?>', '', text)\n",
        "\n",
        "text = re.sub(r'\\b\\d+\\b', '', text)\n",
        "\n",
        "text = re.sub(r'\\s+', ' ', text).strip()\n",
        "text"
      ],
      "metadata": {
        "colab": {
          "base_uri": "https://localhost:8080/",
          "height": 35
        },
        "id": "iogEHQc9apQV",
        "outputId": "2d29f4dc-8b4a-47ba-de4c-83d6df9d61cc"
      },
      "execution_count": 47,
      "outputs": [
        {
          "output_type": "execute_result",
          "data": {
            "text/plain": [
              "'Hello world! Contact us at or . Follow us on social media: . Visit our website for more details. This is a test with number .'"
            ],
            "application/vnd.google.colaboratory.intrinsic+json": {
              "type": "string"
            }
          },
          "metadata": {},
          "execution_count": 47
        }
      ]
    },
    {
      "cell_type": "code",
      "source": [],
      "metadata": {
        "id": "Hef0Nt2Ebn_b"
      },
      "execution_count": null,
      "outputs": []
    }
  ]
}