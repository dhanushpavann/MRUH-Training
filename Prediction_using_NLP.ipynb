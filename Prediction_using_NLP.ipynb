{
  "nbformat": 4,
  "nbformat_minor": 0,
  "metadata": {
    "colab": {
      "provenance": [],
      "authorship_tag": "ABX9TyPvzUGILyf4ELIrFGX7CkG8",
      "include_colab_link": true
    },
    "kernelspec": {
      "name": "python3",
      "display_name": "Python 3"
    },
    "language_info": {
      "name": "python"
    }
  },
  "cells": [
    {
      "cell_type": "markdown",
      "metadata": {
        "id": "view-in-github",
        "colab_type": "text"
      },
      "source": [
        "<a href=\"https://colab.research.google.com/github/dhanushpavann/MRUH-Training/blob/main/Prediction_using_NLP.ipynb\" target=\"_parent\"><img src=\"https://colab.research.google.com/assets/colab-badge.svg\" alt=\"Open In Colab\"/></a>"
      ]
    },
    {
      "cell_type": "code",
      "execution_count": 10,
      "metadata": {
        "colab": {
          "base_uri": "https://localhost:8080/"
        },
        "id": "_S7OJLGnpZBV",
        "outputId": "97e2a568-873f-4136-caa8-451b00e7bab4"
      },
      "outputs": [
        {
          "output_type": "stream",
          "name": "stdout",
          "text": [
            "Predicted value for the year 2025: 400.0\n"
          ]
        }
      ],
      "source": [
        "from sklearn.linear_model import LinearRegression\n",
        "from sklearn.model_selection import train_test_split\n",
        "\n",
        "years=[[2015],[2016],[2017],[2018],[2019],[2020]]\n",
        "values=[200,220,240,260,280,300]\n",
        "\n",
        "years_train,years_test,values_train,values_test=train_test_split(years,values,test_size=0.2,random_state=42 )\n",
        "\n",
        "model=LinearRegression()\n",
        "model.fit(years_train,values_train)\n",
        "\n",
        "future_year=[[2025]]\n",
        "predicted_value=model.predict(future_year)\n",
        "print(f\"Predicted value for the year {future_year[0][0]}: {predicted_value[0]:}\")\n"
      ]
    },
    {
      "cell_type": "code",
      "source": [
        "from sklearn.linear_model import LinearRegression\n",
        "from sklearn.model_selection import train_test_split\n",
        "\n",
        "sem=[[1_1],[1_2],[2_1],[2_2],[3_1],[3_2]]\n",
        "score=[200,220,240,260,280,300]\n",
        "\n",
        "sem_train,sem_test,score_train,score_test=train_test_split(sem,score,test_size=0.2,random_state=42 )\n",
        "\n",
        "model=LinearRegression()\n",
        "model.fit(sem_train,score_train)\n",
        "\n",
        "future_sem=[[4_1]]\n",
        "predicted_value=model.predict(future_sem)\n",
        "print(f\"Predicted value for the year {future_sem[0][0]}: {predicted_value[0]:}\")"
      ],
      "metadata": {
        "colab": {
          "base_uri": "https://localhost:8080/"
        },
        "id": "k1A7qHahumCQ",
        "outputId": "c4431c65-d381-4df5-e463-7f1c6d98f98e"
      },
      "execution_count": 13,
      "outputs": [
        {
          "output_type": "stream",
          "name": "stdout",
          "text": [
            "Predicted value for the year 41: 330.29702970297035\n"
          ]
        }
      ]
    },
    {
      "cell_type": "code",
      "source": [],
      "metadata": {
        "id": "bljFyw4h3ozN"
      },
      "execution_count": null,
      "outputs": []
    }
  ]
}