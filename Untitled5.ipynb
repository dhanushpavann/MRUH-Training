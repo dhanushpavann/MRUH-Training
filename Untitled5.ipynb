{
  "nbformat": 4,
  "nbformat_minor": 0,
  "metadata": {
    "colab": {
      "provenance": [],
      "authorship_tag": "ABX9TyNjiMrL3kuc/7JkQ5RPEt/I",
      "include_colab_link": true
    },
    "kernelspec": {
      "name": "python3",
      "display_name": "Python 3"
    },
    "language_info": {
      "name": "python"
    }
  },
  "cells": [
    {
      "cell_type": "markdown",
      "metadata": {
        "id": "view-in-github",
        "colab_type": "text"
      },
      "source": [
        "<a href=\"https://colab.research.google.com/github/dhanushpavann/repo1/blob/main/Untitled5.ipynb\" target=\"_parent\"><img src=\"https://colab.research.google.com/assets/colab-badge.svg\" alt=\"Open In Colab\"/></a>"
      ]
    },
    {
      "cell_type": "code",
      "execution_count": null,
      "metadata": {
        "colab": {
          "base_uri": "https://localhost:8080/"
        },
        "id": "MwWc9uoP4u0h",
        "outputId": "d6f74946-7ad2-47d8-d2d7-e62c3946d537"
      },
      "outputs": [
        {
          "output_type": "stream",
          "name": "stdout",
          "text": [
            "['apple', 'banana', 'cherry']\n"
          ]
        }
      ],
      "source": [
        "list = [\"apple\", \"banana\", \"cherry\"]\n",
        "print(list)"
      ]
    },
    {
      "cell_type": "code",
      "source": [
        "a =\"fsd\"\n",
        "b=\"abc\"\n",
        "c=a+b"
      ],
      "metadata": {
        "id": "2wUQaNzq42b1"
      },
      "execution_count": null,
      "outputs": []
    },
    {
      "cell_type": "code",
      "source": [
        "list=[\"A\",\"B\",\"C\",\"D\",\"E\",\"F\",\"G\",\"H\"]\n",
        "print(list[0:3])"
      ],
      "metadata": {
        "colab": {
          "base_uri": "https://localhost:8080/"
        },
        "id": "TTX97UHQ6tL6",
        "outputId": "f60f652d-3992-43d6-ca8e-9289c9258a20"
      },
      "execution_count": null,
      "outputs": [
        {
          "output_type": "stream",
          "name": "stdout",
          "text": [
            "['A', 'B', 'C']\n"
          ]
        }
      ]
    },
    {
      "cell_type": "code",
      "source": [
        "int=23\n",
        "print(int)\n",
        "print(type(int))\n",
        "\n",
        "list=[1,2,\"abc\",\"def\",3.13]\n",
        "print(list)\n",
        "\n",
        "list.append(\"Hello\")\n",
        "print(list)\n",
        "\n",
        "list.remove(3.13)\n",
        "print(list)"
      ],
      "metadata": {
        "id": "e0DDJW4N9QXd",
        "colab": {
          "base_uri": "https://localhost:8080/"
        },
        "outputId": "4f86742d-cfe4-4ba1-a599-15d5b1f66979"
      },
      "execution_count": 4,
      "outputs": [
        {
          "output_type": "stream",
          "name": "stdout",
          "text": [
            "23\n",
            "<class 'int'>\n",
            "[1, 2, 'abc', 'def', 3.13]\n",
            "[1, 2, 'abc', 'def', 3.13, 'Hello']\n",
            "[1, 2, 'abc', 'def', 'Hello']\n"
          ]
        }
      ]
    },
    {
      "cell_type": "code",
      "source": [
        "tuple=(1,2,3,4,5,\"hello\")\n",
        "print(tuple)\n",
        "print(tuple[0])\n",
        "print(tuple[5])\n",
        "\n"
      ],
      "metadata": {
        "colab": {
          "base_uri": "https://localhost:8080/"
        },
        "id": "_l7kTjufGKK1",
        "outputId": "20d3c47c-a372-41c6-f66c-e67c527e08a5"
      },
      "execution_count": 10,
      "outputs": [
        {
          "output_type": "stream",
          "name": "stdout",
          "text": [
            "(1, 2, 3, 4, 5, 'hello')\n",
            "1\n",
            "hello\n"
          ]
        }
      ]
    },
    {
      "cell_type": "code",
      "source": [
        "for i in range(1,6):\n",
        "  print(i)"
      ],
      "metadata": {
        "colab": {
          "base_uri": "https://localhost:8080/"
        },
        "id": "xcY-1e0aHMJf",
        "outputId": "19dfcb78-ef5d-4dda-d664-f6ef89437b78"
      },
      "execution_count": 11,
      "outputs": [
        {
          "output_type": "stream",
          "name": "stdout",
          "text": [
            "1\n",
            "2\n",
            "3\n",
            "4\n",
            "5\n"
          ]
        }
      ]
    },
    {
      "cell_type": "code",
      "source": [
        "while i<=6:\n",
        "  print(i)\n",
        "  i+= 1"
      ],
      "metadata": {
        "colab": {
          "base_uri": "https://localhost:8080/"
        },
        "id": "ud83JmbkIIiw",
        "outputId": "fa70091d-c23b-4981-e84e-78cc30c58a1d"
      },
      "execution_count": 14,
      "outputs": [
        {
          "output_type": "stream",
          "name": "stdout",
          "text": [
            "6\n"
          ]
        }
      ]
    },
    {
      "cell_type": "code",
      "source": [
        "num = int(input())\n",
        "if num>0:\n",
        "  print(\"positive\")\n",
        "elif num==0:\n",
        "  print(\"zero\")\n",
        "else:\n",
        "  print(\"negative\")\n"
      ],
      "metadata": {
        "collapsed": true,
        "id": "m3FgRSrsImCm"
      },
      "execution_count": null,
      "outputs": []
    },
    {
      "cell_type": "code",
      "source": [
        "def greet(name):\n",
        "  print(\"Hello\",{name})\n",
        "\n",
        "greet('Alice')"
      ],
      "metadata": {
        "colab": {
          "base_uri": "https://localhost:8080/"
        },
        "id": "Zg6_LwmtJUyP",
        "outputId": "ec6cc460-31f0-4749-8a95-66eeb1da9e03"
      },
      "execution_count": 19,
      "outputs": [
        {
          "output_type": "stream",
          "name": "stdout",
          "text": [
            "Hello {'Alice'}\n"
          ]
        }
      ]
    }
  ]
}