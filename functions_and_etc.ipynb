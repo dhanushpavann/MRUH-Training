{
  "nbformat": 4,
  "nbformat_minor": 0,
  "metadata": {
    "colab": {
      "provenance": [],
      "gpuType": "T4",
      "authorship_tag": "ABX9TyN32KGt2nf6+IoJlDeZNXlH",
      "include_colab_link": true
    },
    "kernelspec": {
      "name": "python3",
      "display_name": "Python 3"
    },
    "language_info": {
      "name": "python"
    },
    "accelerator": "GPU"
  },
  "cells": [
    {
      "cell_type": "markdown",
      "metadata": {
        "id": "view-in-github",
        "colab_type": "text"
      },
      "source": [
        "<a href=\"https://colab.research.google.com/github/dhanushpavann/MRUH-Training/blob/main/functions_and_etc.ipynb\" target=\"_parent\"><img src=\"https://colab.research.google.com/assets/colab-badge.svg\" alt=\"Open In Colab\"/></a>"
      ]
    },
    {
      "cell_type": "code",
      "execution_count": null,
      "metadata": {
        "colab": {
          "base_uri": "https://localhost:8080/"
        },
        "id": "DyMb9JsX6G1r",
        "outputId": "bf07787d-5edd-4bd9-bc6f-626c74dc821f"
      },
      "outputs": [
        {
          "output_type": "stream",
          "name": "stdout",
          "text": [
            "hello sanjay\n"
          ]
        }
      ],
      "source": [
        "def greet(name):\n",
        "  print(\"hello \"+name)\n",
        "\n",
        "greet(\"sanjay\")\n"
      ]
    },
    {
      "cell_type": "code",
      "source": [
        "name = \"Rahul\"\n",
        "print(name.upper())\n",
        "print(name.lower())\n",
        "print(name.swapcase())\n",
        "\n",
        "first_name = \"Rahul\"\n",
        "last_name = \"Dravid\"\n",
        "full_name = first_name + \" \" + last_name\n",
        "print(full_name)\n",
        "\n",
        "text = \"Hello, world!\"\n",
        "substring = text[0:5]\n",
        "print(substring)\n",
        "\n",
        "text = \"Hello\"\n",
        "length = len(text)\n",
        "print(length)\n",
        "\n",
        "text = \"Hello, world!\"\n",
        "new_text = text.replace(\"world\", \"Python\")\n",
        "print(new_text)\n",
        "\n",
        "text = \"apple,banana,orange\"\n",
        "fruits = text.split(\",\")\n",
        "print(fruits)\n",
        "\n",
        "text = \"Hello, world!\"\n",
        "position = text.find(\"d\")\n",
        "print(position)"
      ],
      "metadata": {
        "colab": {
          "base_uri": "https://localhost:8080/"
        },
        "id": "Xyqc5IGu64c1",
        "outputId": "6fa14a1d-609d-4b24-9821-1aa10b4737f3"
      },
      "execution_count": null,
      "outputs": [
        {
          "output_type": "stream",
          "name": "stdout",
          "text": [
            "RAHUL\n",
            "rahul\n",
            "rAHUL\n",
            "Rahul Dravid\n",
            "Hello\n",
            "5\n",
            "Hello, Python!\n",
            "['apple', 'banana', 'orange']\n",
            "11\n"
          ]
        }
      ]
    },
    {
      "cell_type": "code",
      "source": [
        "a =\"1234asa\"\n",
        "b=a.isdigit()\n",
        "print(b)"
      ],
      "metadata": {
        "colab": {
          "base_uri": "https://localhost:8080/"
        },
        "id": "Rmkt0DXr6_9d",
        "outputId": "02eb8ce4-9de1-4fe4-8311-35c6740f66da"
      },
      "execution_count": null,
      "outputs": [
        {
          "output_type": "stream",
          "name": "stdout",
          "text": [
            "False\n"
          ]
        }
      ]
    },
    {
      "cell_type": "code",
      "source": [
        "a=range(20)\n",
        "print(a)\n",
        "b= list(a)\n",
        "print(b)"
      ],
      "metadata": {
        "colab": {
          "base_uri": "https://localhost:8080/"
        },
        "id": "_ziuPoT-9Lqn",
        "outputId": "12259a1b-33b5-42dc-c963-26bad7382f72"
      },
      "execution_count": null,
      "outputs": [
        {
          "output_type": "stream",
          "name": "stdout",
          "text": [
            "range(0, 20)\n",
            "[0, 1, 2, 3, 4, 5, 6, 7, 8, 9, 10, 11, 12, 13, 14, 15, 16, 17, 18, 19]\n"
          ]
        }
      ]
    },
    {
      "cell_type": "code",
      "source": [
        "def add_numbers(a,b):\n",
        "  result=a+b\n",
        "  return result\n",
        "add_numbers(2,3)"
      ],
      "metadata": {
        "colab": {
          "base_uri": "https://localhost:8080/"
        },
        "id": "PJy8p7iX9PGT",
        "outputId": "6f836b23-4037-4fd4-d1da-4c2b39bf809a"
      },
      "execution_count": null,
      "outputs": [
        {
          "output_type": "execute_result",
          "data": {
            "text/plain": [
              "5"
            ]
          },
          "metadata": {},
          "execution_count": 18
        }
      ]
    },
    {
      "cell_type": "code",
      "source": [
        "def greet(name):\n",
        "  print(f\"Hello, {name}!\")\n",
        "\n",
        "greet(\"Sanjay\")"
      ],
      "metadata": {
        "id": "msV04c13ALY9",
        "colab": {
          "base_uri": "https://localhost:8080/"
        },
        "outputId": "ed9d467f-6c78-4f4b-8581-003eba6bd681"
      },
      "execution_count": null,
      "outputs": [
        {
          "output_type": "stream",
          "name": "stdout",
          "text": [
            "Hello, Sanjay!\n"
          ]
        }
      ]
    },
    {
      "cell_type": "code",
      "source": [
        "def calculate_sum(*args):\n",
        "  total= sum(args)\n",
        "  return total\n",
        "result=calculate_sum(1,2,3,4,5)\n",
        "print(result)\n",
        "\n"
      ],
      "metadata": {
        "colab": {
          "base_uri": "https://localhost:8080/"
        },
        "id": "Z1NlokItAukm",
        "outputId": "a41841b5-9bbe-4c03-d958-fec55a3ff39a"
      },
      "execution_count": null,
      "outputs": [
        {
          "metadata": {
            "tags": null
          },
          "name": "stdout",
          "output_type": "stream",
          "text": [
            "15\n"
          ]
        }
      ]
    },
    {
      "cell_type": "code",
      "source": [
        "correct_username = \"admin\"\n",
        "correct_password = \"password123\"\n",
        "\n",
        "while True:\n",
        "  username = input(\"Enter your username: \")\n",
        "  password = input(\"Enter your password: \")\n",
        "\n",
        "  if username == correct_username and password == correct_password:\n",
        "    print(\"Login successful!\")\n",
        "    break\n",
        "  else:\n",
        "    print(\"Incorrect credentials\")\n",
        "\n"
      ],
      "metadata": {
        "id": "WZrlC2H2BuMk",
        "colab": {
          "base_uri": "https://localhost:8080/"
        },
        "outputId": "9ef0a599-0376-4614-94c4-da0eff588325"
      },
      "execution_count": null,
      "outputs": [
        {
          "output_type": "stream",
          "name": "stdout",
          "text": [
            "Enter your username: admin\n",
            "Enter your password: password123\n",
            "Login successful!\n"
          ]
        }
      ]
    },
    {
      "cell_type": "code",
      "source": [
        "def factorial(number):\n",
        "  result = 1\n",
        "  while number > 1:\n",
        "    result *= number\n",
        "    number -= 1\n",
        "  return result\n",
        "\n",
        "num = int(input(\"Enter a non-negative integer: \"))\n",
        "\n",
        "fact = factorial(num)\n",
        "print(\"The factorial of\", num, \"is\", fact)"
      ],
      "metadata": {
        "id": "zRpHalHKD8Di",
        "colab": {
          "base_uri": "https://localhost:8080/"
        },
        "outputId": "9e63f634-b905-454c-8075-342661d1df21"
      },
      "execution_count": null,
      "outputs": [
        {
          "output_type": "stream",
          "name": "stdout",
          "text": [
            "Enter a non-negative integer: 5\n",
            "The factorial of 5 is 120\n"
          ]
        }
      ]
    },
    {
      "cell_type": "code",
      "source": [
        "my_list = [1, 2, 3]\n",
        "print(dir(my_list))\n"
      ],
      "metadata": {
        "colab": {
          "base_uri": "https://localhost:8080/"
        },
        "id": "JCb8GnTwFQ3W",
        "outputId": "e75f32b5-f0f1-4b21-eac7-2f1598da790e"
      },
      "execution_count": null,
      "outputs": [
        {
          "output_type": "stream",
          "name": "stdout",
          "text": [
            "['__add__', '__class__', '__class_getitem__', '__contains__', '__delattr__', '__delitem__', '__dir__', '__doc__', '__eq__', '__format__', '__ge__', '__getattribute__', '__getitem__', '__gt__', '__hash__', '__iadd__', '__imul__', '__init__', '__init_subclass__', '__iter__', '__le__', '__len__', '__lt__', '__mul__', '__ne__', '__new__', '__reduce__', '__reduce_ex__', '__repr__', '__reversed__', '__rmul__', '__setattr__', '__setitem__', '__sizeof__', '__str__', '__subclasshook__', 'append', 'clear', 'copy', 'count', 'extend', 'index', 'insert', 'pop', 'remove', 'reverse', 'sort']\n"
          ]
        }
      ]
    },
    {
      "cell_type": "code",
      "source": [
        "def even_numbers(n):\n",
        "  total = 0\n",
        "  for i in range(2, n + 1, 2):\n",
        "    total += i\n",
        "  return total\n",
        "\n",
        "n = int(input(\"Enter a positive integer: \"))\n",
        "\n",
        "sum_even = even_numbers(n)\n",
        "print(\"The sum of even numbers from 1 to\", n, \"is\", sum_even)"
      ],
      "metadata": {
        "id": "F07adkm1GCus",
        "colab": {
          "base_uri": "https://localhost:8080/"
        },
        "outputId": "47c4ba69-cbd0-42ac-80ea-1f46f94bee37"
      },
      "execution_count": 4,
      "outputs": [
        {
          "output_type": "stream",
          "name": "stdout",
          "text": [
            "Enter a positive integer: 5\n",
            "The sum of even numbers from 1 to 5 is 6\n"
          ]
        }
      ]
    },
    {
      "cell_type": "code",
      "source": [],
      "metadata": {
        "id": "Mp2G9fE9MucN"
      },
      "execution_count": null,
      "outputs": []
    }
  ]
}